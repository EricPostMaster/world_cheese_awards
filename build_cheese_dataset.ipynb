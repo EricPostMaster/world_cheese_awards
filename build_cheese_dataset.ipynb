{
  "nbformat": 4,
  "nbformat_minor": 0,
  "metadata": {
    "colab": {
      "name": "Untitled0.ipynb",
      "provenance": [],
      "authorship_tag": "ABX9TyONSKP87H4HYYqsGyHOibZe",
      "include_colab_link": true
    },
    "kernelspec": {
      "name": "python3",
      "display_name": "Python 3"
    },
    "language_info": {
      "name": "python"
    }
  },
  "cells": [
    {
      "cell_type": "markdown",
      "metadata": {
        "id": "view-in-github",
        "colab_type": "text"
      },
      "source": [
        "<a href=\"https://colab.research.google.com/github/EricPostMaster/world_cheese_awards/blob/main/build_cheese_dataset.ipynb\" target=\"_parent\"><img src=\"https://colab.research.google.com/assets/colab-badge.svg\" alt=\"Open In Colab\"/></a>"
      ]
    },
    {
      "cell_type": "markdown",
      "metadata": {
        "id": "vGx3KWsO44TC"
      },
      "source": [
        "## Install and import required packages"
      ]
    },
    {
      "cell_type": "code",
      "metadata": {
        "id": "4ph_T4fUJS3a"
      },
      "source": [
        "# !pip install selenium\n",
        "# !pip install webdriver_manager\n",
        "# !apt-get update \n",
        "# !apt install chromium-chromedriver"
      ],
      "execution_count": null,
      "outputs": []
    },
    {
      "cell_type": "code",
      "metadata": {
        "id": "DvVlGiqaJLed"
      },
      "source": [
        "import pandas as pd\n",
        "import numpy as np\n",
        "import csv\n",
        "from selenium import webdriver\n",
        "from selenium.webdriver.common.keys import Keys\n",
        "from webdriver_manager.chrome import ChromeDriverManager\n",
        "from selenium.webdriver.chrome.options import Options\n",
        "import requests\n",
        "\n",
        "chrome_options = webdriver.ChromeOptions()\n",
        "chrome_options.add_argument('--headless')\n",
        "chrome_options.add_argument('--no-sandbox')\n",
        "chrome_options.add_argument('--disable-dev-shm-usage')"
      ],
      "execution_count": 40,
      "outputs": []
    },
    {
      "cell_type": "markdown",
      "metadata": {
        "id": "AvFepqil4_JM"
      },
      "source": [
        "## Get category, country, and county values"
      ]
    },
    {
      "cell_type": "code",
      "metadata": {
        "id": "gwEGHUCkJMmU"
      },
      "source": [
        "countries = ['Afghanistan', 'Algeria', 'Argentina', 'Armenia', 'Australia', 'Austria', 'Azerbaijan', 'Bangladesh', 'Barbados', 'Belgium', 'Belize', 'Bolivia', 'Bosnia and Herzegovina', 'Botswana', 'Brazil', 'Bulgaria', 'Burundi', 'Cambodia', 'Canada', 'Cayman Islands', 'Chile', 'China', 'Colombia', 'Costa Rica', 'Croatia', 'Cuba', 'Cyprus', 'Czech Republic', 'Denmark', 'Dominican Republic', 'East Timor', 'Ecuador', 'Egypt', 'El Salvador', 'Estonia', 'Ethiopia', 'Fiji', 'Finland', 'France', 'Georgia', 'Germany', 'Ghana', 'Gibraltar', 'Greece', 'Greenland', 'Grenada', 'Guatemala', 'Guernsey', 'Guinea', 'Guyana', 'Haiti', 'Honduras', 'Hong Kong', 'Hungary', 'Iceland', 'India', 'Indonesia', 'Iran', 'Iraq', 'Ireland', 'Isle of Man', 'Israel', 'Italy', 'Ivory Coast', 'Jamaica', 'Japan', 'Jersey', 'Jordan', 'Kazakhstan', 'Kenya', 'Korea', 'Kosovo', 'Kyrgyzstan', 'Latvia', 'Lebanon', 'Liechtenstein', 'Lithuania', 'Luxembourg', 'Macau', 'Macedonia', 'Madagascar', 'Malawi', 'Malaysia', 'Mali', 'Malta', 'Mauritania', 'Mauritius', 'Mexico', 'Moldova', 'Montenegro', 'Morocco', 'Myanmar', 'Nepal', 'Netherlands', 'New Zealand', 'Nicaragua', 'Nigeria', 'Norway', 'Pakistan', 'Palestine', 'Panama', 'Papua New Guinea', 'Peru', 'Philippines', 'Poland', 'Portugal', 'Puerto Rico', 'Romania', 'Russia', 'Rwanda', 'Saint Lucia', 'Saudi Arabia', 'Senegal', 'Serbia', 'Singapore', 'Slovakia', 'Slovenia', 'South Africa', 'Spain', 'Sri Lanka', 'St Vincent &amp; the Grenadines', 'Sudan', 'Swaziland', 'Sweden', 'Switzerland', 'Taiwan', 'Tanzania', 'Thailand', 'Trinidad and Tobago', 'Tunisia', 'Turkey', 'Turkmenistan', 'Uganda', 'Ukraine', 'United Arab Emirates', 'United Kingdom', 'Uruguay', 'USA', 'Venezuela', 'Vietnam', 'Yemen', 'Zimbabwe']\n",
        "counties = ['Aberdeen City', 'Aberdeenshire', 'Angus', 'Antrim', 'Argyll and Bute', 'Armagh', 'Bedfordshire', 'Berkshire', 'Buckinghamshire', 'Cambridgeshire', 'Carlow', 'Carmarthenshire', 'Cavan', 'Ceredigion', 'Cheshire', 'Clackmannanshire', 'Clare', 'Clwyd', 'Cork', 'Cornwall', 'County Durham', 'Cumbria', 'Denbighshire', 'Derbyshire', 'Derry', 'Devon', 'Donegal', 'Dorset', 'Down', 'Down', 'Dublin', 'Dumfries and Galloway', 'Dundee City', 'East Ayrshire', 'East Dunbartonshire', 'East Lothian', 'East Renfrewshire', 'East Riding of Yorkshire', 'East Sussex', 'East Yorkshire', 'Edinburgh', 'Essex', 'Falkirk', 'Fermanagh', 'Fife', 'Flintshire', 'Galway', 'Glamorgan', 'Glasgow', 'Gloucestershire', 'Greater London', 'Greater Manchester', 'Gwent', 'Gwynedd', 'Hampshire', 'Herefordshire', 'Hertfordshire', 'Highland', 'Inverclyde', 'Isle of Anglesey', 'Isle of Man', 'Isle of Wight', 'Kent', 'Kerry', 'Kildare', 'Kilkenny', 'Kingston upon Hull', 'Lancashire', 'Laois', 'Leicestershire', 'Leitrim', 'Limerick', 'Lincolnshire', 'Londonderry', 'Longford', 'Louth', 'Mayo', 'Meath', 'Merseyside', 'Mid Glamorgan', 'Middlesex', 'Midlothian', 'Monaghan', 'Monmouthshire', 'Moray', 'Norfolk', 'North Ayrshire', 'North Humberside', 'North Lanarkshire', 'North Yorkshire', 'Northamptonshire', 'Northumberland', 'Nottinghamshire', 'Offaly', 'Orkney Islands', 'Oxfordshire', 'Pembrokeshire', 'Perth and Kinross', 'Powys', 'Renfrewshire', 'Rhondda Cynon Taf', 'Roscommon', 'Rutland', 'Scottish Borders', 'Shetland Islands', 'Shropshire', 'Sligo', 'Somerset', 'South Ayrshire', 'South Glamorgan', 'South Lanarkshire', 'South Yorkshire', 'Staffordshire', 'Stirling', 'Suffolk', 'Surrey', 'Tipperary', 'Tyne and Wear', 'Tyrone', 'Warwickshire', 'Waterford', 'West Dunbartonshire', 'West Glamorgan', 'West Lothian', 'West Midlands', 'West Sussex', 'West Yorkshire', 'Western Isles', 'Westmeath', 'Wexford', 'Wicklow', 'Wiltshire', 'Worcestershire']"
      ],
      "execution_count": 2,
      "outputs": []
    },
    {
      "cell_type": "code",
      "metadata": {
        "id": "czuengdxJtDf"
      },
      "source": [
        "# Creates driver that is updated to work with the latest version of Chrome\n",
        "driver = webdriver.Chrome('chromedriver',chrome_options=chrome_options)\n",
        "\n",
        "# Navigate to page and sign in\n",
        "driver.get('https://worldcheeseawards.com/wca-results')\n",
        "\n",
        "# Country Values\n",
        "select_box = driver.find_element_by_name(\"country_id\") \n",
        "options = [x for x in select_box.find_elements_by_tag_name(\"option\")]\n",
        "values_country = [element.get_attribute(\"value\") for element in options]\n",
        "values_country.pop(0)\n",
        "\n",
        "# County Values\n",
        "select_box = driver.find_element_by_name(\"county_id\") \n",
        "options = [x for x in select_box.find_elements_by_tag_name(\"option\")]\n",
        "values_county = [element.get_attribute(\"value\") for element in options]\n",
        "values_county.pop(0)\n",
        "\n",
        "# Category Values\n",
        "select_box = driver.find_element_by_name(\"mg_category_id\")\n",
        "options = [x for x in select_box.find_elements_by_tag_name(\"option\")]\n",
        "values_category = [element.get_attribute(\"value\") for element in options]\n",
        "values_category.pop(0)\n",
        "\n",
        "# List of all different cheese categories\n",
        "option_finder = (driver.find_element_by_name('mg_category_id')\n",
        "                       .find_elements_by_tag_name('option'))\n",
        "option_texts = [e.get_attribute(\"textContent\") for e in option_finder]\n",
        "option_texts.pop(0)\n",
        "\n",
        "# Close browser and terminate driver instance\n",
        "driver.quit()"
      ],
      "execution_count": null,
      "outputs": []
    },
    {
      "cell_type": "code",
      "metadata": {
        "id": "9CAYrjeZKmJ_"
      },
      "source": [
        "country_dict = dict(zip(values_country, countries))\n",
        "county_dict = dict(zip(values_county, counties))\n",
        "category_dict = dict(zip(values_category, option_texts))"
      ],
      "execution_count": 7,
      "outputs": []
    },
    {
      "cell_type": "markdown",
      "metadata": {
        "id": "2W-q67SGgeBR"
      },
      "source": [
        "## Keep only categories that have entries"
      ]
    },
    {
      "cell_type": "code",
      "metadata": {
        "id": "GfT7Yoaqco4h"
      },
      "source": [
        "root = 'https://worldcheeseawards.com/wca-results?sort_options_limit=100&sort_options_sort_direction=desc&sort_options_sort_by=rating'\n",
        "\n",
        "count = 0\n",
        "\n",
        "category_keep_list = []\n",
        "\n",
        "for category_key in category_dict.keys():\n",
        "  url = f'{root}&mg_category_id={category_key}&country_id=&county_id=&filter=Search&page=1'\n",
        "\n",
        "  header = {\n",
        "  \"User-Agent\": \"Mozilla/5.0 (X11; Linux x86_64) AppleWebKit/537.36 (KHTML, like Gecko) Chrome/50.0.2661.75 Safari/537.36\",\n",
        "  \"X-Requested-With\": \"XMLHttpRequest\"\n",
        "  }\n",
        "\n",
        "  r = requests.get(url, headers=header)\n",
        "\n",
        "  data = pd.read_html(r.text)\n",
        "\n",
        "  # print(f\"{category_key}, {data[0].shape[0]}\")\n",
        "\n",
        "  count = count + data[0].shape[0]\n",
        "\n",
        "  if data[0].shape[0] > 0:\n",
        "    category_keep_list.append(category_key)"
      ],
      "execution_count": 25,
      "outputs": []
    },
    {
      "cell_type": "markdown",
      "metadata": {
        "id": "IP5zvg-fhlb6"
      },
      "source": [
        "## Keep only countries that have entries"
      ]
    },
    {
      "cell_type": "code",
      "metadata": {
        "id": "CVX1aeKJgG4-"
      },
      "source": [
        "root = 'https://worldcheeseawards.com/wca-results?sort_options_limit=100&sort_options_sort_direction=desc&sort_options_sort_by=rating'\n",
        "\n",
        "count = 0\n",
        "\n",
        "country_keep_list = []\n",
        "\n",
        "for country_key in country_dict.keys():\n",
        "  url = f'{root}&mg_category_id=&country_id={country_key}&county_id=&filter=Search&page=1'\n",
        "\n",
        "  header = {\n",
        "  \"User-Agent\": \"Mozilla/5.0 (X11; Linux x86_64) AppleWebKit/537.36 (KHTML, like Gecko) Chrome/50.0.2661.75 Safari/537.36\",\n",
        "  \"X-Requested-With\": \"XMLHttpRequest\"\n",
        "  }\n",
        "\n",
        "  r = requests.get(url, headers=header)\n",
        "\n",
        "  data = pd.read_html(r.text)\n",
        "\n",
        "  print(f\"{country_key}, {data[0].shape[0]}\")\n",
        "\n",
        "  count = count + data[0].shape[0]\n",
        "\n",
        "  if data[0].shape[0] > 0:\n",
        "    country_keep_list.append(country_key)"
      ],
      "execution_count": null,
      "outputs": []
    },
    {
      "cell_type": "markdown",
      "metadata": {
        "id": "1XSiZ5w9htTV"
      },
      "source": [
        "## Keep only counties with entries"
      ]
    },
    {
      "cell_type": "code",
      "metadata": {
        "id": "94FTWP4Fg8Qk"
      },
      "source": [
        "root = 'https://worldcheeseawards.com/wca-results?sort_options_limit=100&sort_options_sort_direction=desc&sort_options_sort_by=rating'\n",
        "\n",
        "count = 0\n",
        "\n",
        "county_keep_list = []\n",
        "\n",
        "for county_key in county_dict.keys():\n",
        "  url = f'{root}&mg_category_id=&country_id=&county_id={county_key}&filter=Search&page=1'\n",
        "\n",
        "  header = {\n",
        "  \"User-Agent\": \"Mozilla/5.0 (X11; Linux x86_64) AppleWebKit/537.36 (KHTML, like Gecko) Chrome/50.0.2661.75 Safari/537.36\",\n",
        "  \"X-Requested-With\": \"XMLHttpRequest\"\n",
        "  }\n",
        "\n",
        "  r = requests.get(url, headers=header)\n",
        "\n",
        "  data = pd.read_html(r.text)\n",
        "\n",
        "  print(f\"{county_key}, {data[0].shape[0]}\")\n",
        "\n",
        "  count = count + data[0].shape[0]\n",
        "\n",
        "  if data[0].shape[0] > 0:\n",
        "    county_keep_list.append(county_key)"
      ],
      "execution_count": null,
      "outputs": []
    },
    {
      "cell_type": "markdown",
      "metadata": {
        "id": "9kF3gat93OiW"
      },
      "source": [
        "## Pull all data and store in master list of dataframes"
      ]
    },
    {
      "cell_type": "code",
      "metadata": {
        "id": "yGDlYvGOhb4O"
      },
      "source": [
        "master_list = []\n",
        "\n",
        "root = 'https://worldcheeseawards.com/wca-results?sort_options_limit=100&sort_options_sort_direction=desc&sort_options_sort_by=rating'\n",
        "\n",
        "for category_key in category_keep_list:\n",
        "    for country_key in country_keep_list:\n",
        "        if country_key in ('100','230'):\n",
        "            for county_key in county_keep_list:\n",
        "                    \n",
        "              url = f'{root}&mg_category_id={category_key}&country_id={country_key}&county_id={county_key}&filter=Search&page={i}'\n",
        "\n",
        "              header = {\n",
        "              \"User-Agent\": \"Mozilla/5.0 (X11; Linux x86_64) AppleWebKit/537.36 (KHTML, like Gecko) Chrome/50.0.2661.75 Safari/537.36\",\n",
        "              \"X-Requested-With\": \"XMLHttpRequest\"\n",
        "              }\n",
        "\n",
        "              r = requests.get(url, headers=header)\n",
        "\n",
        "              data = pd.read_html(r.text)\n",
        "\n",
        "              # print(f\"{category_key}, {country_key}, {county_key}, {i}, {data[0].shape[0]}\")\n",
        "\n",
        "              if data[0].shape[0] > 0:\n",
        "                data[0]['Category'] = category_dict[category_key]\n",
        "                data[0]['Country'] = country_dict[country_key]\n",
        "                data[0]['County'] = county_dict[county_key]\n",
        "                master_list.append(data[0])\n",
        "\n",
        "        else:      \n",
        "          url = f'{root}&mg_category_id={category_key}&country_id={country_key}&county_id=&filter=Search&page={i}'\n",
        "\n",
        "          header = {\n",
        "          \"User-Agent\": \"Mozilla/5.0 (X11; Linux x86_64) AppleWebKit/537.36 (KHTML, like Gecko) Chrome/50.0.2661.75 Safari/537.36\",\n",
        "          \"X-Requested-With\": \"XMLHttpRequest\"\n",
        "          }\n",
        "\n",
        "          r = requests.get(url, headers=header)\n",
        "\n",
        "          data = pd.read_html(r.text)\n",
        "\n",
        "          # print(f\"{category_key}, {country_key}, 'NA', {i}, {data[0].shape[0]}\")\n",
        "\n",
        "          if data[0].shape[0] > 0:\n",
        "            data[0]['Category'] = category_dict[category_key]\n",
        "            data[0]['Country'] = country_dict[country_key]\n",
        "            data[0]['County'] = np.nan\n",
        "            master_list.append(data[0])"
      ],
      "execution_count": null,
      "outputs": []
    },
    {
      "cell_type": "markdown",
      "metadata": {
        "id": "vDYjfNXym9vE"
      },
      "source": [
        "## Concatenate all the dataframes"
      ]
    },
    {
      "cell_type": "code",
      "metadata": {
        "id": "rYKTbpAcjYI4"
      },
      "source": [
        "df_big_cheese = pd.concat(master_list)"
      ],
      "execution_count": 63,
      "outputs": []
    },
    {
      "cell_type": "markdown",
      "metadata": {
        "id": "JFSYdeLt4VYJ"
      },
      "source": [
        "## Clean and standardize a bit!"
      ]
    },
    {
      "cell_type": "code",
      "metadata": {
        "id": "7MG1Jmoik8mj"
      },
      "source": [
        "# Fix the category column\n",
        "df_big_cheese['Category'] = df_big_cheese['Category'].str[79:].str[:-73]"
      ],
      "execution_count": 68,
      "outputs": []
    },
    {
      "cell_type": "code",
      "metadata": {
        "id": "ANH5q3Y82i6I"
      },
      "source": [
        "# Reset index\n",
        "df_big_cheese.reset_index(drop=True, inplace=True)"
      ],
      "execution_count": 74,
      "outputs": []
    },
    {
      "cell_type": "code",
      "metadata": {
        "id": "m4GtEw7H3jft"
      },
      "source": [
        "# Clean up column names\n",
        "df_big_cheese.rename(columns={'Company':'company'\n",
        "                              ,'Product name':'product_name'\n",
        "                              ,'Rating':'rating'\n",
        "                              ,'Category':'category'\n",
        "                              ,'Country':'country'\n",
        "                              ,'County':'county'}\n",
        "                     ,inplace=True)"
      ],
      "execution_count": 76,
      "outputs": []
    },
    {
      "cell_type": "code",
      "metadata": {
        "id": "wUFZUuMnlbPH"
      },
      "source": [
        "df_big_cheese.to_csv('big_cheese.csv')"
      ],
      "execution_count": 78,
      "outputs": []
    }
  ]
}